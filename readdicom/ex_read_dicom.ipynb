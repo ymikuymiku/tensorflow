{
 "cells": [
  {
   "cell_type": "markdown",
   "metadata": {},
   "source": [
    "dicom파일을 python에서 읽고 영상을 보는 예제입니다.\n",
    "이를 위해 두 개의 외부 라이브러리를 사용하기를 권장합니다.\n",
    "\n",
    "pydicom을 통해 dicom파일을 편하게 다룰 수 있습니다.\n",
    "http://pydicom.readthedocs.io/en/stable/index.html\n",
    "\n",
    "matplotlib는 python에서 데이터를 시각화하는데 큰 도움을 줍니다.\n",
    "https://matplotlib.org/\n"
   ]
  },
  {
   "cell_type": "code",
   "execution_count": 8,
   "metadata": {
    "collapsed": true
   },
   "outputs": [],
   "source": [
    "%matplotlib inline\n",
    "import dicom\n",
    "import matplotlib.pyplot as plt"
   ]
  },
  {
   "cell_type": "markdown",
   "metadata": {},
   "source": [
    "위 과정은 외부 라이브러리를 사용할 수 있도록 해줍니다."
   ]
  },
  {
   "cell_type": "code",
   "execution_count": 9,
   "metadata": {
    "collapsed": true
   },
   "outputs": [],
   "source": [
    "ds = dicom.read_file('cucumber.dcm')"
   ]
  },
  {
   "cell_type": "markdown",
   "metadata": {},
   "source": [
    "프로그래밍이 익숙하지 않은 분들에게 한 가지 팁을 드리면\n",
    "dicom.을 입력하고 키보드의 Tab키를 누르면 dicom이라는 라이브러리를 통해 사용할 수 있는 함수들의 목록이 나타납니다. read_file도 그 중의 하나이고요. 여기서는 cucumber.dcm 이라는 dicom 파일을 읽었습니다."
   ]
  },
  {
   "cell_type": "code",
   "execution_count": 10,
   "metadata": {},
   "outputs": [
    {
     "data": {
      "text/plain": [
       "'cucumber'"
      ]
     },
     "execution_count": 10,
     "metadata": {},
     "output_type": "execute_result"
    }
   ],
   "source": [
    "ds.PatientsName"
   ]
  },
  {
   "cell_type": "markdown",
   "metadata": {},
   "source": [
    "마찬가지로 ds.을 입력하고 키보드의 Tab키를 누르면 ds라는 다이콤파일을 담고 있는 변수로부터 얻어낼 수 있는 정보의 목록이 뜹니다. 여기서는 그 중 이름을 출력해 보도록 하였습니다."
   ]
  },
  {
   "cell_type": "code",
   "execution_count": 11,
   "metadata": {},
   "outputs": [
    {
     "data": {
      "text/plain": [
       "(512, 512)"
      ]
     },
     "execution_count": 11,
     "metadata": {},
     "output_type": "execute_result"
    }
   ],
   "source": [
    "dcmimg=ds.pixel_array\n",
    "dcmimg.shape"
   ]
  },
  {
   "cell_type": "markdown",
   "metadata": {},
   "source": [
    "dicom 파일의 영상정보는 각각의 pixel에 해당하는 숫자들의 array로 저장되어 있습니다. 위의 과정은 그 숫자들의 array를 dcmimg라는 변수(2d matrix)로 가져오는 과정과 가져온 2d matrix의 크기를 출력하는 과정입니다."
   ]
  },
  {
   "cell_type": "code",
   "execution_count": 12,
   "metadata": {},
   "outputs": [
    {
     "data": {
      "text/plain": [
       "<matplotlib.colorbar.Colorbar at 0x1aae4c2ccf8>"
      ]
     },
     "execution_count": 12,
     "metadata": {},
     "output_type": "execute_result"
    },
    {
     "data": {
      "text/plain": [
       "<matplotlib.figure.Figure at 0x1aae4bd0320>"
      ]
     },
     "metadata": {},
     "output_type": "display_data"
    }
   ],
   "source": [
    "imgplot = plt.imshow(dcmimg, cmap=\"gray\", clim=(0, 8184))\n",
    "plt.colorbar()"
   ]
  },
  {
   "cell_type": "markdown",
   "metadata": {},
   "source": [
    "위 과정은 matplotlib에서 가져온 plt를 이용하여 dcmimg라는 변수를 시각화 해주는 과정입니다. \n",
    "여러 가지 옵션을 통하여 다양한 방법으로 영상을 시각화 할 수 있습니다. \n"
   ]
  }
 ],
 "metadata": {
  "kernelspec": {
   "display_name": "Python 3",
   "language": "python",
   "name": "python3"
  },
  "language_info": {
   "codemirror_mode": {
    "name": "ipython",
    "version": 3
   },
   "file_extension": ".py",
   "mimetype": "text/x-python",
   "name": "python",
   "nbconvert_exporter": "python",
   "pygments_lexer": "ipython3",
   "version": "3.5.2"
  }
 },
 "nbformat": 4,
 "nbformat_minor": 2
}
